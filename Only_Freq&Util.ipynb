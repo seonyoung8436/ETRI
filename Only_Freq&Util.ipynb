{
 "cells": [
  {
   "cell_type": "code",
   "execution_count": 1,
   "metadata": {},
   "outputs": [],
   "source": [
    "import pandas as pd\n",
    "from pandas import DataFrame"
   ]
  },
  {
   "cell_type": "code",
   "execution_count": null,
   "metadata": {},
   "outputs": [],
   "source": [
    "def MakeData(Name, colsize):#(읽을 Bench name, column 수)\n",
    "    tmp = pd.read_csv((\"Modify/\"+str(Name)+\".csv\"), sep=\";\", header=1, na_filter=False)\n",
    "    #tmp = tmp.drop(columns=[\"Unnamed: 205\",\"Date\",\"C2res%\",\"C3res%.1\",\"C6res%.1\",\"C7res%.1\",\"C8res%\",\"C9res%\",\"C10res%\"])\n",
    "    tmp = tmp.drop(columns=[\"Date\",\"C2res%\",\"C3res%.1\",\"C6res%.1\",\"C7res%.1\"])\n",
    "    #tmp = tmp.drop(columns=[\"EXEC\",\"IPC\",\"L3MISS\",\"L2MISS\",\"L3HIT\",\"L2HIT\",\"L3MPI\",\"L2MPI\",\"READ\",\"WRITE\",\"INST\",\"ACYC\",\"TIME(ticks)\",\"PhysIPC\",\"PhysIPC%\",\"INSTnom\",\"INSTnom%\",\"C0res%\",\"C1res%\",\"C3res%\",\"C6res%\",\"C7res%\"])\n",
    "    tmp = tmp.drop(columns=[\"EXEC.1\",\"IPC.1\",\"FREQ.1\",\"AFREQ.1\",\"L3MISS.1\",\"L2MISS.1\",\"L3HIT.1\",\"L2HIT.1\",\"L2MPI.1\",\"L3MPI.1\",\"READ.1\",\"WRITE.1\"])\n",
    "    tmp = tmp.iloc[:,1:colsize+2] \n",
    "    for i in range(0,tmp.index.size):\n",
    "        tmp.iloc[i,colsize] = 100 - tmp.iloc[i,colsize]  \n",
    "    return tmp"
   ]
  },
  {
   "cell_type": "code",
   "execution_count": null,
   "metadata": {},
   "outputs": [],
   "source": [
    "def MakeData2(Name, colsize):#(읽을 Bench name, column 수)\n",
    "    tmp = pd.read_csv((\"merge/8core/\"+str(Name)+\".csv\"), sep=\";\", header=1, na_filter=False)\n",
    "    tmp = tmp.drop(columns=[\"Date\",\"C2res%\",\"Proc_Energy_(Joules)\",\"FREQ\",\"AFREQ\",\"C3res%.1\",\"C6res%.1\",\"C7res%.1\",\"C8res%\",\"C9res%\",\"C10res%\"])\n",
    "    #tmp = tmp.drop(columns=[\"Date\",\"C2res%\",\"C3res%.1\",\"C6res%.1\",\"C7res%.1\"])\n",
    "    #tmp = tmp.drop(columns=[\"EXEC\",\"IPC\",\"L3MISS\",\"L2MISS\",\"L3HIT\",\"L2HIT\",\"L3MPI\",\"L2MPI\",\"READ\",\"WRITE\",\"INST\",\"ACYC\",\"TIME(ticks)\",\"PhysIPC\",\"PhysIPC%\",\"INSTnom\",\"INSTnom%\",\"C0res%\",\"C1res%\",\"C3res%\",\"C6res%\",\"C7res%\"])\n",
    "    tmp = tmp.drop(columns=[\"EXEC.1\",\"IPC.1\",\"FREQ.1\",\"AFREQ.1\",\"L3MISS.1\",\"L2MISS.1\",\"L3HIT.1\",\"L2HIT.1\",\"L2MPI.1\",\"L3MPI.1\",\"READ.1\",\"WRITE.1\"])\n",
    "    tmp = tmp.iloc[:,1:colsize+2] \n",
    "    for i in range(0,tmp.index.size):\n",
    "        tmp.iloc[i,colsize] = 100 - tmp.iloc[i,colsize]  \n",
    "    return tmp"
   ]
  },
  {
   "cell_type": "code",
   "execution_count": null,
   "metadata": {},
   "outputs": [],
   "source": [
    "def insert_after(counts, Data, Temp_colnum): # (위로 올릴 row 수, Data, temp 있는 column 번호)\n",
    "    temp = []\n",
    "    for i in range (0,Data.index.size-counts):\n",
    "        temp.append(Data.iloc[i+counts,Temp_colnum])\n",
    "    for i in range (Data.index.size-counts,Data.index.size):\n",
    "        temp.append(Data.iloc[i,Temp_colnum])\n",
    "    Data[\"temp_A\"] = temp\n",
    "    return Data"
   ]
  },
  {
   "cell_type": "code",
   "execution_count": null,
   "metadata": {},
   "outputs": [],
   "source": [
    "benchlist = [\"astar\",\"calculix\",\"gamess\",\"gcc\",\"gobmk\",\"mcf\",\"povray\",\"soplex\",\"sphinx3\",\"tonto\",\"wrf\"]\n",
    "datalist = []\n",
    "colsize = {\"System\":24}#26 읽어오면 System 전체 정보\n",
    "All1 = pd.DataFrame()\n",
    "for bench in benchlist:\n",
    "    datalist.append(insert_after(10, MakeData2(bench, colsize[\"System\"]), -1))\n",
    "All1 = pd.concat(datalist, axis=0)"
   ]
  },
  {
   "cell_type": "code",
   "execution_count": null,
   "metadata": {},
   "outputs": [],
   "source": [
    "benchlist = [\"astar\",\"calculix\",\"gamess\",\"gcc\",\"gobmk\",\"mcf\",\"povray\",\"soplex\",\"sphinx3\",\"tonto\",\"wrf\"]\n",
    "datalist = []\n",
    "colsize = {\"System\":24}#26 읽어오면 System 전체 정보\n",
    "All2 = pd.DataFrame()\n",
    "for bench in benchlist:\n",
    "    datalist.append(insert_after(10, MakeData1(bench, colsize[\"System\"]), -1))\n",
    "All2 = pd.concat(datalist, axis=0)"
   ]
  }
 ],
 "metadata": {
  "kernelspec": {
   "display_name": "Python 3",
   "language": "python",
   "name": "python3"
  },
  "language_info": {
   "codemirror_mode": {
    "name": "ipython",
    "version": 3
   },
   "file_extension": ".py",
   "mimetype": "text/x-python",
   "name": "python",
   "nbconvert_exporter": "python",
   "pygments_lexer": "ipython3",
   "version": "3.6.5"
  }
 },
 "nbformat": 4,
 "nbformat_minor": 2
}
