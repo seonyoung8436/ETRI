{
 "cells": [
  {
   "cell_type": "code",
   "execution_count": 1,
   "metadata": {},
   "outputs": [],
   "source": [
    "import pandas as pd\n",
    "from pandas import DataFrame"
   ]
  },
  {
   "cell_type": "code",
   "execution_count": 2,
   "metadata": {},
   "outputs": [],
   "source": [
    "def MakeData1(Name, colsize):#(읽을 Bench name, column 수)\n",
    "    tmp = pd.read_csv((\"s/data/4core/\"+str(Name)+\".csv\"), sep=\";\", header=1, na_filter=False)\n",
    "    #tmp = tmp.drop(columns=[\"Unnamed: 205\",\"Date\",\"C2res%\",\"C3res%.1\",\"C6res%.1\",\"C7res%.1\",\"C8res%\",\"C9res%\",\"C10res%\"])\n",
    "    tmp = tmp.drop(columns=[\"Date\",\"C2res%\",\"C3res%.1\",\"C6res%.1\",\"C7res%.1\"])\n",
    "    tmp = tmp.drop(columns=[\"IPC\",\"READ\",\"WRITE\",\"Proc_Energy_(Joules)\",\"FREQ\",\"AFREQ\",\"C0res%\",\"C1res%\",\"C3res%\",\"C6res%\",\"C7res%\",\"EXEC\",\"L3MISS\",\"L2MISS\",\"L3HIT\",\"L2HIT\",\"L3MPI\",\"L2MPI\",\"INST\",\"ACYC\",\"TIME(ticks)\",\"PhysIPC\",\"PhysIPC%\",\"INSTnom\",\"INSTnom%\"])\n",
    "    #tmp = tmp.drop(columns=[\"EXEC\",\"IPC\",\"L3MISS\",\"L2MISS\",\"L3HIT\",\"L2HIT\",\"L3MPI\",\"L2MPI\",\"READ\",\"WRITE\",\"INST\",\"ACYC\",\"TIME(ticks)\",\"PhysIPC\",\"PhysIPC%\",\"INSTnom\",\"INSTnom%\",\"C0res%\",\"C1res%\",\"C3res%\",\"C6res%\",\"C7res%\"])\n",
    "    tmp = tmp.drop(columns=[\"EXEC.1\",\"IPC.1\",\"FREQ.1\",\"AFREQ.1\",\"L3MISS.1\",\"L2MISS.1\",\"L3HIT.1\",\"L2HIT.1\",\"L2MPI.1\",\"L3MPI.1\",\"READ.1\",\"WRITE.1\"])\n",
    "    tmp = tmp.iloc[:,1:colsize+2] \n",
    "    for i in range(0,tmp.index.size):\n",
    "        tmp.iloc[i,colsize] = 100 - tmp.iloc[i,colsize]  \n",
    "    return tmp"
   ]
  },
  {
   "cell_type": "code",
   "execution_count": 3,
   "metadata": {},
   "outputs": [],
   "source": [
    "def MakeData2(Name, colsize):#(읽을 Bench name, column 수)\n",
    "    tmp = pd.read_csv((\"s/data/8core/\"+str(Name)+\".csv\"), sep=\";\", header=1, na_filter=False)\n",
    "    tmp = tmp.drop(columns=[\"Date\",\"C2res%\",\"C3res%.1\",\"C6res%.1\",\"C7res%.1\",\"C8res%\",\"C9res%\",\"C10res%\"])\n",
    "    tmp = tmp.drop(columns=[\"IPC\",\"READ\",\"WRITE\",\"Proc_Energy_(Joules)\",\"FREQ\",\"AFREQ\",\"C0res%\",\"C1res%\",\"C3res%\",\"C6res%\",\"C7res%\",\"EXEC\",\"L3MISS\",\"L2MISS\",\"L3HIT\",\"L2HIT\",\"L3MPI\",\"L2MPI\",\"INST\",\"ACYC\",\"TIME(ticks)\",\"PhysIPC\",\"PhysIPC%\",\"INSTnom\",\"INSTnom%\"])\n",
    "    #tmp = tmp.drop(columns=[\"Date\",\"C2res%\",\"C3res%.1\",\"C6res%.1\",\"C7res%.1\"])\n",
    "    #tmp = tmp.drop(columns=[\"EXEC\",\"IPC\",\"L3MISS\",\"L2MISS\",\"L3HIT\",\"L2HIT\",\"L3MPI\",\"L2MPI\",\"READ\",\"WRITE\",\"INST\",\"ACYC\",\"TIME(ticks)\",\"PhysIPC\",\"PhysIPC%\",\"INSTnom\",\"INSTnom%\",\"C0res%\",\"C1res%\",\"C3res%\",\"C6res%\",\"C7res%\"])\n",
    "    tmp = tmp.drop(columns=[\"EXEC.1\",\"IPC.1\",\"FREQ.1\",\"AFREQ.1\",\"L3MISS.1\",\"L2MISS.1\",\"L3HIT.1\",\"L2HIT.1\",\"L2MPI.1\",\"L3MPI.1\",\"READ.1\",\"WRITE.1\"])\n",
    "    tmp = tmp.iloc[:,1:colsize+2] \n",
    "    for i in range(0,tmp.index.size):\n",
    "        tmp.iloc[i,colsize] = 100 - tmp.iloc[i,colsize]  \n",
    "    return tmp"
   ]
  },
  {
   "cell_type": "code",
   "execution_count": 4,
   "metadata": {},
   "outputs": [],
   "source": [
    "def insert_after(counts, Data, Temp_colnum): # (위로 올릴 row 수, Data, temp 있는 column 번호)\n",
    "    temp = []\n",
    "    for i in range (0,Data.index.size-counts):\n",
    "        temp.append(Data.iloc[i+counts,Temp_colnum])\n",
    "    for i in range (Data.index.size-counts,Data.index.size):\n",
    "        temp.append(Data.iloc[i,Temp_colnum])\n",
    "    Data[\"temp_A\"] = temp\n",
    "    return Data"
   ]
  },
  {
   "cell_type": "code",
   "execution_count": 5,
   "metadata": {},
   "outputs": [
    {
     "name": "stdout",
     "output_type": "stream",
     "text": [
      "/home/seonyoung/Desktop\n"
     ]
    }
   ],
   "source": [
    "cd /home/seonyoung/Desktop"
   ]
  },
  {
   "cell_type": "code",
   "execution_count": 6,
   "metadata": {},
   "outputs": [],
   "source": [
    "benchlist = [\"astar\",\"calculix\",\"gamess\",\"gcc\",\"gobmk\",\"mcf\",\"povray\",\"soplex\",\"sphinx3\",\"tonto\",\"wrf\"]\n",
    "datalist1 = []\n",
    "colsize = {\"System\":3} #26 읽어오면 System 전체 정보\n",
    "All1 = pd.DataFrame()\n",
    "for bench in benchlist:\n",
    "    datalist1.append(insert_after(10, MakeData2(bench, colsize[\"System\"]), -1))\n",
    "All1 = pd.concat(datalist1, axis=0)"
   ]
  },
  {
   "cell_type": "code",
   "execution_count": 17,
   "metadata": {},
   "outputs": [],
   "source": [
    "data = pd.DataFrame(datalist1[9])\n",
    "data.to_csv(\"s/only_freq/8core/tonto.csv\",mode = 'w')\n",
    "# 0: astar\n",
    "# 1: calculix\n",
    "# 2: gamess\n",
    "# 3: gcc\n",
    "# 4: gobmk\n",
    "# 5: mcf\n",
    "# 6: povray\n",
    "# 7: soplex\n",
    "# 8: sphinx3\n",
    "# 9: tonto\n",
    "# 10: wrf"
   ]
  },
  {
   "cell_type": "code",
   "execution_count": 18,
   "metadata": {},
   "outputs": [],
   "source": [
    "benchlist = [\"astar\",\"calculix\",\"gamess\",\"gcc\",\"gobmk\",\"mcf\",\"povray\",\"soplex\",\"sphinx3\",\"tonto\",\"wrf\"]\n",
    "datalist = []\n",
    "colsize = {\"System\":3}#26 읽어오면 System 전체 정보\n",
    "All2 = pd.DataFrame()\n",
    "for bench in benchlist:\n",
    "    datalist.append(insert_after(10, MakeData1(bench, colsize[\"System\"]), -1))\n",
    "All2 = pd.concat(datalist, axis=0)"
   ]
  },
  {
   "cell_type": "code",
   "execution_count": 29,
   "metadata": {},
   "outputs": [],
   "source": [
    "data = pd.DataFrame(datalist[10])\n",
    "data.to_csv(\"s/only_freq/4core/wrf.csv\",mode = 'w')\n",
    "# 0: astar\n",
    "# 1: calculix\n",
    "# 2: gamess\n",
    "# 3: gcc\n",
    "# 4: gobmk\n",
    "# 5: mcf\n",
    "# 6: povray\n",
    "# 7: soplex\n",
    "# 8: sphinx3\n",
    "# 9: tonto\n",
    "# 10: wrf"
   ]
  },
  {
   "cell_type": "code",
   "execution_count": 30,
   "metadata": {},
   "outputs": [
    {
     "name": "stdout",
     "output_type": "stream",
     "text": [
      "/home/seonyoung\n"
     ]
    }
   ],
   "source": [
    "cd .."
   ]
  },
  {
   "cell_type": "code",
   "execution_count": 31,
   "metadata": {},
   "outputs": [],
   "source": [
    "All = pd.concat([All1,All2], axis=0,sort=False)\n",
    "All.to_csv(\"All/only_freq.csv\",mode = 'w')"
   ]
  },
  {
   "cell_type": "code",
   "execution_count": 32,
   "metadata": {},
   "outputs": [
    {
     "data": {
      "text/html": [
       "<div>\n",
       "<style scoped>\n",
       "    .dataframe tbody tr th:only-of-type {\n",
       "        vertical-align: middle;\n",
       "    }\n",
       "\n",
       "    .dataframe tbody tr th {\n",
       "        vertical-align: top;\n",
       "    }\n",
       "\n",
       "    .dataframe thead th {\n",
       "        text-align: right;\n",
       "    }\n",
       "</style>\n",
       "<table border=\"1\" class=\"dataframe\">\n",
       "  <thead>\n",
       "    <tr style=\"text-align: right;\">\n",
       "      <th></th>\n",
       "      <th>Total_Util</th>\n",
       "      <th>Num_core</th>\n",
       "      <th>frequency</th>\n",
       "      <th>TEMP</th>\n",
       "      <th>temp_A</th>\n",
       "    </tr>\n",
       "  </thead>\n",
       "  <tbody>\n",
       "    <tr>\n",
       "      <th>0</th>\n",
       "      <td>0.1350</td>\n",
       "      <td>8</td>\n",
       "      <td>3.220</td>\n",
       "      <td>62</td>\n",
       "      <td>61</td>\n",
       "    </tr>\n",
       "    <tr>\n",
       "      <th>1</th>\n",
       "      <td>0.0000</td>\n",
       "      <td>8</td>\n",
       "      <td>2.610</td>\n",
       "      <td>61</td>\n",
       "      <td>61</td>\n",
       "    </tr>\n",
       "    <tr>\n",
       "      <th>2</th>\n",
       "      <td>0.0000</td>\n",
       "      <td>8</td>\n",
       "      <td>2.610</td>\n",
       "      <td>62</td>\n",
       "      <td>61</td>\n",
       "    </tr>\n",
       "    <tr>\n",
       "      <th>3</th>\n",
       "      <td>0.0000</td>\n",
       "      <td>8</td>\n",
       "      <td>1.880</td>\n",
       "      <td>61</td>\n",
       "      <td>60</td>\n",
       "    </tr>\n",
       "    <tr>\n",
       "      <th>4</th>\n",
       "      <td>0.0909</td>\n",
       "      <td>8</td>\n",
       "      <td>0.826</td>\n",
       "      <td>61</td>\n",
       "      <td>61</td>\n",
       "    </tr>\n",
       "  </tbody>\n",
       "</table>\n",
       "</div>"
      ],
      "text/plain": [
       "   Total_Util  Num_core  frequency  TEMP  temp_A\n",
       "0      0.1350         8      3.220    62      61\n",
       "1      0.0000         8      2.610    61      61\n",
       "2      0.0000         8      2.610    62      61\n",
       "3      0.0000         8      1.880    61      60\n",
       "4      0.0909         8      0.826    61      61"
      ]
     },
     "execution_count": 32,
     "metadata": {},
     "output_type": "execute_result"
    }
   ],
   "source": [
    "All.head()"
   ]
  }
 ],
 "metadata": {
  "kernelspec": {
   "display_name": "Python 3",
   "language": "python",
   "name": "python3"
  },
  "language_info": {
   "codemirror_mode": {
    "name": "ipython",
    "version": 3
   },
   "file_extension": ".py",
   "mimetype": "text/x-python",
   "name": "python",
   "nbconvert_exporter": "python",
   "pygments_lexer": "ipython3",
   "version": "3.6.5"
  }
 },
 "nbformat": 4,
 "nbformat_minor": 2
}
